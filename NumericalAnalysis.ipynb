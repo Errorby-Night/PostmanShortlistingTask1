{
 "cells": [
  {
   "cell_type": "code",
   "execution_count": 4,
   "metadata": {},
   "outputs": [],
   "source": [
    "import math\n",
    "import matplotlib.pyplot as plt"
   ]
  },
  {
   "cell_type": "code",
   "execution_count": 1,
   "metadata": {},
   "outputs": [],
   "source": [
    "def fx(x):\n",
    "    return ((x*x*x) - x - 3)"
   ]
  },
  {
   "cell_type": "code",
   "execution_count": 18,
   "metadata": {},
   "outputs": [
    {
     "data": {
      "image/png": "[encoded data removed]",
      "text/plain": [
       "<Figure size 432x288 with 1 Axes>"
      ]
     },
     "metadata": {
      "needs_background": "light"
     },
     "output_type": "display_data"
    }
   ],
   "source": [
    "a = 1\n",
    "b = 2\n",
    "i = 0\n",
    "c = []\n",
    "fc = []\n",
    "ax = plt.axes()\n",
    "while(i != 100 ):\n",
    "    c.append((a+b)/2)\n",
    "    fa = fx(a)\n",
    "    fb = fx(b)\n",
    "    fc.append(fx(c[i]))\n",
    "    if fc[i]*fa < 0:\n",
    "        b = c[i]\n",
    "    if fc[i]*fb < 0:\n",
    "        a = c[i]\n",
    "    i = i+1\n",
    "plt.plot(c, fc,'r.')\n",
    "plt.show()"
   ]
  },
  {
   "cell_type": "code",
   "execution_count": 17,
   "metadata": {},
   "outputs": [],
   "source": [
    "import requests"
   ]
  },
  {
   "cell_type": "code",
   "execution_count": 18,
   "metadata": {},
   "outputs": [],
   "source": [
    "url = \"https://www.flickr.com/services/rest/\""
   ]
  },
  {
   "cell_type": "code",
   "execution_count": 27,
   "metadata": {},
   "outputs": [],
   "source": [
    "parameters = {\n",
    "    \"method\": \"flickr.photos.getPopular\",\n",
    "    \"api_key\": \"840b728efe82c5903c46be7817ced7a7\", \n",
    "    \"user_id\" : \"196147392@N04\",\n",
    "    \"format\" : \"json\",\n",
    "    \"nojsoncallback\" : 1\n",
    "}"
   ]
  },
  {
   "cell_type": "code",
   "execution_count": 28,
   "metadata": {},
   "outputs": [
    {
     "name": "stdout",
     "output_type": "stream",
     "text": [
      "200\n"
     ]
    }
   ],
   "source": [
    "r = requests.get(url = url, params = parameters)\n",
    "\n",
    "print(r.status_code)"
   ]
  },
  {
   "cell_type": "code",
   "execution_count": 29,
   "metadata": {},
   "outputs": [
    {
     "name": "stdout",
     "output_type": "stream",
     "text": [
      "{'photos': {'page': 1, 'pages': 0, 'perpage': 100, 'total': 0, 'photo': []}, 'stat': 'ok'}\n"
     ]
    }
   ],
   "source": [
    "json_response = r.json()\n",
    "print(json_response)"
   ]
  },
  {
   "cell_type": "code",
   "execution_count": 30,
   "metadata": {},
   "outputs": [
    {
     "name": "stdout",
     "output_type": "stream",
     "text": [
      "API is working correctly\n"
     ]
    }
   ],
   "source": [
    "if (r.status_code == 200 and json_response[\"stat\"] == \"ok\"):\n",
    "    print(\"API is working correctly\")\n",
    "else:\n",
    "    print(\"Not Working\")\n",
    "    print(\"Error:-\", json_response[\"message\"])"
   ]
  },
  {
   "cell_type": "code",
   "execution_count": null,
   "metadata": {},
   "outputs": [],
   "source": []
  }
 ],
 "metadata": {
  "kernelspec": {
   "display_name": "Python 3",
   "language": "python",
   "name": "python3"
  },
  "language_info": {
   "codemirror_mode": {
    "name": "ipython",
    "version": 3
   },
   "file_extension": ".py",
   "mimetype": "text/x-python",
   "name": "python",
   "nbconvert_exporter": "python",
   "pygments_lexer": "ipython3",
   "version": "3.8.5"
  }
 },
 "nbformat": 4,
 "nbformat_minor": 4
}
